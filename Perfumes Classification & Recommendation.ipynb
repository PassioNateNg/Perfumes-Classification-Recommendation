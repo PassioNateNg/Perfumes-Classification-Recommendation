{
 "cells": [
  {
   "cell_type": "markdown",
   "metadata": {
    "colab_type": "text",
    "id": "3DR-eO17geWu"
   },
   "source": [
    "# Convolutional Neural Network"
   ]
  },
  {
   "cell_type": "markdown",
   "metadata": {
    "colab_type": "text",
    "id": "EMefrVPCg-60"
   },
   "source": [
    "### Importing the libraries"
   ]
  },
  {
   "cell_type": "code",
   "execution_count": 1,
   "metadata": {
    "colab": {},
    "colab_type": "code",
    "id": "sCV30xyVhFbE"
   },
   "outputs": [],
   "source": [
    "import tensorflow as tf\n",
    "from keras.preprocessing.image import ImageDataGenerator\n",
    "from tensorflow.keras import callbacks, optimizers\n",
    "import pandas as pd"
   ]
  },
  {
   "cell_type": "code",
   "execution_count": 2,
   "metadata": {
    "colab": {},
    "colab_type": "code",
    "id": "FIleuCAjoFD8"
   },
   "outputs": [
    {
     "data": {
      "text/plain": [
       "'2.7.0'"
      ]
     },
     "execution_count": 2,
     "metadata": {},
     "output_type": "execute_result"
    }
   ],
   "source": [
    "tf.__version__"
   ]
  },
  {
   "cell_type": "markdown",
   "metadata": {
    "colab_type": "text",
    "id": "oxQxCBWyoGPE"
   },
   "source": [
    "## Part 1 - Data Preprocessing"
   ]
  },
  {
   "cell_type": "markdown",
   "metadata": {
    "colab_type": "text",
    "id": "MvE-heJNo3GG"
   },
   "source": [
    "### Preprocessing the Training set"
   ]
  },
  {
   "cell_type": "code",
   "execution_count": 3,
   "metadata": {
    "colab": {},
    "colab_type": "code",
    "id": "0koUcJMJpEBD"
   },
   "outputs": [
    {
     "name": "stdout",
     "output_type": "stream",
     "text": [
      "Found 512 images belonging to 2 classes.\n"
     ]
    }
   ],
   "source": [
    "train_datagen = ImageDataGenerator(rescale = 1./255,\n",
    "                                   shear_range = 0.2,\n",
    "                                   zoom_range = 0.2,\n",
    "                                   horizontal_flip = True)\n",
    "training_set = train_datagen.flow_from_directory('/Users/nateng921/Desktop/perfume tranning set',\n",
    "                                                 target_size = (64, 64),\n",
    "                                                 batch_size = 32,\n",
    "                                                 class_mode = 'binary')"
   ]
  },
  {
   "cell_type": "markdown",
   "metadata": {
    "colab_type": "text",
    "id": "mrCMmGw9pHys"
   },
   "source": [
    "### Preprocessing the Test set"
   ]
  },
  {
   "cell_type": "code",
   "execution_count": 4,
   "metadata": {
    "colab": {},
    "colab_type": "code",
    "id": "SH4WzfOhpKc3"
   },
   "outputs": [
    {
     "name": "stdout",
     "output_type": "stream",
     "text": [
      "Found 44 images belonging to 2 classes.\n"
     ]
    }
   ],
   "source": [
    "test_datagen = ImageDataGenerator(rescale = 1./255)\n",
    "test_set = test_datagen.flow_from_directory('/Users/nateng921/Desktop/perfume test set',\n",
    "                                            target_size = (64, 64),\n",
    "                                            batch_size = 32,\n",
    "                                            class_mode = 'binary')"
   ]
  },
  {
   "cell_type": "code",
   "execution_count": 5,
   "metadata": {},
   "outputs": [
    {
     "name": "stdout",
     "output_type": "stream",
     "text": [
      "{'Chanel Bleu': 0, 'Chanel Chance': 1}\n"
     ]
    }
   ],
   "source": [
    "print(test_set.class_indices)"
   ]
  },
  {
   "cell_type": "markdown",
   "metadata": {
    "colab_type": "text",
    "id": "af8O4l90gk7B"
   },
   "source": [
    "## Part 2 - Building the CNN"
   ]
  },
  {
   "cell_type": "markdown",
   "metadata": {
    "colab_type": "text",
    "id": "ces1gXY2lmoX"
   },
   "source": [
    "### Initialising the CNN"
   ]
  },
  {
   "cell_type": "code",
   "execution_count": 6,
   "metadata": {
    "colab": {},
    "colab_type": "code",
    "id": "SAUt4UMPlhLS"
   },
   "outputs": [],
   "source": [
    "cnn = tf.keras.models.Sequential()"
   ]
  },
  {
   "cell_type": "markdown",
   "metadata": {
    "colab_type": "text",
    "id": "u5YJj_XMl5LF"
   },
   "source": [
    "### Step 1 - Convolution"
   ]
  },
  {
   "cell_type": "code",
   "execution_count": 7,
   "metadata": {
    "colab": {},
    "colab_type": "code",
    "id": "XPzPrMckl-hV"
   },
   "outputs": [],
   "source": [
    "cnn.add(tf.keras.layers.Conv2D(filters=32, kernel_size=3, activation='relu', input_shape=[64, 64, 3]))"
   ]
  },
  {
   "cell_type": "markdown",
   "metadata": {
    "colab_type": "text",
    "id": "tf87FpvxmNOJ"
   },
   "source": [
    "### Step 2 - Pooling"
   ]
  },
  {
   "cell_type": "code",
   "execution_count": 8,
   "metadata": {
    "colab": {},
    "colab_type": "code",
    "id": "ncpqPl69mOac"
   },
   "outputs": [],
   "source": [
    "cnn.add(tf.keras.layers.MaxPool2D(pool_size=2, strides=2))"
   ]
  },
  {
   "cell_type": "markdown",
   "metadata": {
    "colab_type": "text",
    "id": "xaTOgD8rm4mU"
   },
   "source": [
    "### Adding a second convolutional layer"
   ]
  },
  {
   "cell_type": "code",
   "execution_count": 9,
   "metadata": {
    "colab": {},
    "colab_type": "code",
    "id": "i_-FZjn_m8gk"
   },
   "outputs": [],
   "source": [
    "cnn.add(tf.keras.layers.Conv2D(filters=32, kernel_size=3, activation='relu'))\n",
    "cnn.add(tf.keras.layers.MaxPool2D(pool_size=2, strides=2))"
   ]
  },
  {
   "cell_type": "markdown",
   "metadata": {
    "colab_type": "text",
    "id": "tmiEuvTunKfk"
   },
   "source": [
    "### Step 3 - Flattening"
   ]
  },
  {
   "cell_type": "code",
   "execution_count": 10,
   "metadata": {
    "colab": {},
    "colab_type": "code",
    "id": "6AZeOGCvnNZn"
   },
   "outputs": [],
   "source": [
    "cnn.add(tf.keras.layers.Flatten())"
   ]
  },
  {
   "cell_type": "markdown",
   "metadata": {
    "colab_type": "text",
    "id": "dAoSECOm203v"
   },
   "source": [
    "### Step 4 - Full Connection"
   ]
  },
  {
   "cell_type": "code",
   "execution_count": 11,
   "metadata": {
    "colab": {},
    "colab_type": "code",
    "id": "8GtmUlLd26Nq"
   },
   "outputs": [],
   "source": [
    "cnn.add(tf.keras.layers.Dense(units=128, activation='relu'))"
   ]
  },
  {
   "cell_type": "markdown",
   "metadata": {
    "colab_type": "text",
    "id": "yTldFvbX28Na"
   },
   "source": [
    "### Step 5 - Output Layer"
   ]
  },
  {
   "cell_type": "code",
   "execution_count": 12,
   "metadata": {
    "colab": {},
    "colab_type": "code",
    "id": "1p_Zj1Mc3Ko_"
   },
   "outputs": [],
   "source": [
    "cnn.add(tf.keras.layers.Dense(units=1, activation='sigmoid'))"
   ]
  },
  {
   "cell_type": "markdown",
   "metadata": {
    "colab_type": "text",
    "id": "vfrFQACEnc6i"
   },
   "source": [
    "### Compiling the CNN"
   ]
  },
  {
   "cell_type": "code",
   "execution_count": 13,
   "metadata": {
    "colab": {},
    "colab_type": "code",
    "id": "NALksrNQpUlJ"
   },
   "outputs": [],
   "source": [
    "cnn.compile(optimizer = 'adam', loss = 'binary_crossentropy', metrics = ['accuracy'])"
   ]
  },
  {
   "cell_type": "markdown",
   "metadata": {
    "colab_type": "text",
    "id": "ehS-v3MIpX2h"
   },
   "source": [
    "### Training the CNN on the Training set and evaluating it on the Test set"
   ]
  },
  {
   "cell_type": "code",
   "execution_count": 14,
   "metadata": {
    "colab": {},
    "colab_type": "code",
    "id": "XUj1W4PJptta",
    "scrolled": true
   },
   "outputs": [
    {
     "name": "stdout",
     "output_type": "stream",
     "text": [
      "Epoch 1/50\n",
      "16/16 [==============================] - 8s 475ms/step - loss: 0.3645 - accuracy: 0.8379 - val_loss: 0.0292 - val_accuracy: 1.0000\n",
      "Epoch 2/50\n",
      "16/16 [==============================] - 7s 414ms/step - loss: 0.1352 - accuracy: 0.9531 - val_loss: 0.0258 - val_accuracy: 1.0000\n",
      "Epoch 3/50\n",
      "16/16 [==============================] - 7s 450ms/step - loss: 0.1340 - accuracy: 0.9551 - val_loss: 0.0409 - val_accuracy: 1.0000\n",
      "Epoch 4/50\n",
      "16/16 [==============================] - 7s 393ms/step - loss: 0.0785 - accuracy: 0.9746 - val_loss: 0.0042 - val_accuracy: 1.0000\n",
      "Epoch 5/50\n",
      "16/16 [==============================] - 7s 419ms/step - loss: 0.0647 - accuracy: 0.9766 - val_loss: 0.0031 - val_accuracy: 1.0000\n",
      "Epoch 6/50\n",
      "16/16 [==============================] - 7s 387ms/step - loss: 0.0457 - accuracy: 0.9863 - val_loss: 0.0020 - val_accuracy: 1.0000\n",
      "Epoch 7/50\n",
      "16/16 [==============================] - 7s 414ms/step - loss: 0.0475 - accuracy: 0.9824 - val_loss: 0.0034 - val_accuracy: 1.0000\n",
      "Epoch 8/50\n",
      "16/16 [==============================] - 7s 438ms/step - loss: 0.0412 - accuracy: 0.9844 - val_loss: 0.0035 - val_accuracy: 1.0000\n",
      "Epoch 9/50\n",
      "16/16 [==============================] - 7s 426ms/step - loss: 0.0337 - accuracy: 0.9902 - val_loss: 0.0054 - val_accuracy: 1.0000\n",
      "Epoch 10/50\n",
      "16/16 [==============================] - 7s 448ms/step - loss: 0.0416 - accuracy: 0.9824 - val_loss: 8.3209e-04 - val_accuracy: 1.0000\n",
      "Epoch 11/50\n",
      "16/16 [==============================] - 7s 426ms/step - loss: 0.0388 - accuracy: 0.9824 - val_loss: 0.0028 - val_accuracy: 1.0000\n",
      "Epoch 12/50\n",
      "16/16 [==============================] - 7s 423ms/step - loss: 0.0616 - accuracy: 0.9746 - val_loss: 0.0015 - val_accuracy: 1.0000\n",
      "Epoch 13/50\n",
      "16/16 [==============================] - 8s 507ms/step - loss: 0.0371 - accuracy: 0.9863 - val_loss: 0.0042 - val_accuracy: 1.0000\n",
      "Epoch 14/50\n",
      "16/16 [==============================] - 9s 549ms/step - loss: 0.0224 - accuracy: 0.9922 - val_loss: 5.5988e-04 - val_accuracy: 1.0000\n",
      "Epoch 15/50\n",
      "16/16 [==============================] - 8s 492ms/step - loss: 0.0210 - accuracy: 0.9902 - val_loss: 9.9080e-04 - val_accuracy: 1.0000\n",
      "Epoch 16/50\n",
      "16/16 [==============================] - 8s 501ms/step - loss: 0.0151 - accuracy: 0.9980 - val_loss: 3.4235e-04 - val_accuracy: 1.0000\n",
      "Epoch 17/50\n",
      "16/16 [==============================] - 8s 491ms/step - loss: 0.0187 - accuracy: 0.9922 - val_loss: 0.0090 - val_accuracy: 1.0000\n",
      "Epoch 18/50\n",
      "16/16 [==============================] - 8s 465ms/step - loss: 0.0112 - accuracy: 0.9980 - val_loss: 0.0028 - val_accuracy: 1.0000\n",
      "Epoch 19/50\n",
      "16/16 [==============================] - 8s 465ms/step - loss: 0.0166 - accuracy: 0.9980 - val_loss: 0.0016 - val_accuracy: 1.0000\n",
      "Epoch 20/50\n",
      "16/16 [==============================] - 7s 425ms/step - loss: 0.0147 - accuracy: 0.9922 - val_loss: 0.0016 - val_accuracy: 1.0000\n",
      "Epoch 21/50\n",
      "16/16 [==============================] - 7s 423ms/step - loss: 0.0104 - accuracy: 0.9961 - val_loss: 0.0015 - val_accuracy: 1.0000\n",
      "Epoch 22/50\n",
      "16/16 [==============================] - 7s 433ms/step - loss: 0.0118 - accuracy: 0.9961 - val_loss: 6.0332e-04 - val_accuracy: 1.0000\n",
      "Epoch 23/50\n",
      "16/16 [==============================] - 7s 444ms/step - loss: 0.0068 - accuracy: 0.9961 - val_loss: 4.6618e-04 - val_accuracy: 1.0000\n",
      "Epoch 24/50\n",
      "16/16 [==============================] - 8s 513ms/step - loss: 0.0078 - accuracy: 0.9980 - val_loss: 2.6252e-04 - val_accuracy: 1.0000\n",
      "Epoch 25/50\n",
      "16/16 [==============================] - 8s 463ms/step - loss: 0.0046 - accuracy: 0.9980 - val_loss: 0.0022 - val_accuracy: 1.0000\n",
      "Epoch 26/50\n",
      "16/16 [==============================] - 7s 447ms/step - loss: 0.0038 - accuracy: 1.0000 - val_loss: 6.4083e-04 - val_accuracy: 1.0000\n",
      "Epoch 27/50\n",
      "16/16 [==============================] - 8s 543ms/step - loss: 0.0030 - accuracy: 1.0000 - val_loss: 3.5903e-04 - val_accuracy: 1.0000\n",
      "Epoch 28/50\n",
      "16/16 [==============================] - 8s 487ms/step - loss: 0.0027 - accuracy: 1.0000 - val_loss: 0.0016 - val_accuracy: 1.0000\n",
      "Epoch 29/50\n",
      "16/16 [==============================] - 7s 443ms/step - loss: 0.0031 - accuracy: 1.0000 - val_loss: 3.1341e-04 - val_accuracy: 1.0000\n",
      "Epoch 30/50\n",
      "16/16 [==============================] - 7s 445ms/step - loss: 0.0019 - accuracy: 1.0000 - val_loss: 3.0560e-05 - val_accuracy: 1.0000\n",
      "Epoch 31/50\n",
      "16/16 [==============================] - 7s 454ms/step - loss: 0.0017 - accuracy: 1.0000 - val_loss: 4.8114e-04 - val_accuracy: 1.0000\n",
      "Epoch 32/50\n",
      "16/16 [==============================] - 7s 443ms/step - loss: 0.0013 - accuracy: 1.0000 - val_loss: 1.2299e-04 - val_accuracy: 1.0000\n",
      "Epoch 33/50\n",
      "16/16 [==============================] - 7s 470ms/step - loss: 0.0040 - accuracy: 0.9980 - val_loss: 1.1222e-04 - val_accuracy: 1.0000\n",
      "Epoch 34/50\n",
      "16/16 [==============================] - 7s 453ms/step - loss: 0.0025 - accuracy: 1.0000 - val_loss: 3.7166e-04 - val_accuracy: 1.0000\n",
      "Epoch 35/50\n",
      "16/16 [==============================] - 7s 452ms/step - loss: 0.0011 - accuracy: 1.0000 - val_loss: 2.5414e-04 - val_accuracy: 1.0000\n",
      "Epoch 36/50\n",
      "16/16 [==============================] - 7s 463ms/step - loss: 0.0023 - accuracy: 1.0000 - val_loss: 2.2540e-05 - val_accuracy: 1.0000\n",
      "Epoch 37/50\n",
      "16/16 [==============================] - 9s 550ms/step - loss: 0.0013 - accuracy: 1.0000 - val_loss: 0.0011 - val_accuracy: 1.0000\n",
      "Epoch 38/50\n",
      "16/16 [==============================] - 8s 488ms/step - loss: 0.0011 - accuracy: 1.0000 - val_loss: 2.2007e-05 - val_accuracy: 1.0000\n",
      "Epoch 39/50\n",
      "16/16 [==============================] - 8s 518ms/step - loss: 7.9123e-04 - accuracy: 1.0000 - val_loss: 4.4016e-04 - val_accuracy: 1.0000\n",
      "Epoch 40/50\n",
      "16/16 [==============================] - 8s 513ms/step - loss: 0.0027 - accuracy: 1.0000 - val_loss: 1.0210e-05 - val_accuracy: 1.0000\n",
      "Epoch 41/50\n",
      "16/16 [==============================] - 8s 478ms/step - loss: 0.0028 - accuracy: 1.0000 - val_loss: 5.9130e-05 - val_accuracy: 1.0000\n",
      "Epoch 42/50\n",
      "16/16 [==============================] - 8s 509ms/step - loss: 0.0012 - accuracy: 1.0000 - val_loss: 1.1117e-04 - val_accuracy: 1.0000\n",
      "Epoch 43/50\n",
      "16/16 [==============================] - 7s 464ms/step - loss: 8.3396e-04 - accuracy: 1.0000 - val_loss: 1.6851e-05 - val_accuracy: 1.0000\n",
      "Epoch 44/50\n",
      "16/16 [==============================] - 7s 473ms/step - loss: 4.9905e-04 - accuracy: 1.0000 - val_loss: 4.2376e-05 - val_accuracy: 1.0000\n",
      "Epoch 45/50\n",
      "16/16 [==============================] - 7s 448ms/step - loss: 4.1280e-04 - accuracy: 1.0000 - val_loss: 5.4361e-05 - val_accuracy: 1.0000\n",
      "Epoch 46/50\n",
      "16/16 [==============================] - 8s 486ms/step - loss: 3.8471e-04 - accuracy: 1.0000 - val_loss: 2.6207e-05 - val_accuracy: 1.0000\n",
      "Epoch 47/50\n",
      "16/16 [==============================] - 7s 460ms/step - loss: 3.6443e-04 - accuracy: 1.0000 - val_loss: 1.7174e-05 - val_accuracy: 1.0000\n",
      "Epoch 48/50\n",
      "16/16 [==============================] - 7s 420ms/step - loss: 4.0457e-04 - accuracy: 1.0000 - val_loss: 1.9603e-05 - val_accuracy: 1.0000\n",
      "Epoch 49/50\n",
      "16/16 [==============================] - 7s 437ms/step - loss: 1.8850e-04 - accuracy: 1.0000 - val_loss: 7.1918e-06 - val_accuracy: 1.0000\n",
      "Epoch 50/50\n",
      "16/16 [==============================] - 7s 449ms/step - loss: 2.8525e-04 - accuracy: 1.0000 - val_loss: 1.7959e-05 - val_accuracy: 1.0000\n"
     ]
    },
    {
     "data": {
      "text/plain": [
       "<keras.callbacks.History at 0x7f8410a801c0>"
      ]
     },
     "execution_count": 14,
     "metadata": {},
     "output_type": "execute_result"
    }
   ],
   "source": [
    "cnn.fit(x = training_set, validation_data = test_set, epochs = 50)"
   ]
  },
  {
   "cell_type": "markdown",
   "metadata": {
    "colab_type": "text",
    "id": "U3PZasO0006Z"
   },
   "source": [
    "## Part 4 - Making a single prediction"
   ]
  },
  {
   "cell_type": "markdown",
   "metadata": {},
   "source": [
    "## Save the model"
   ]
  },
  {
   "cell_type": "code",
   "execution_count": 15,
   "metadata": {},
   "outputs": [],
   "source": [
    "tf.keras.models.save_model(cnn, 'perfumemodel5.hdf5')"
   ]
  },
  {
   "cell_type": "markdown",
   "metadata": {},
   "source": [
    "## Make prediction"
   ]
  },
  {
   "cell_type": "code",
   "execution_count": 26,
   "metadata": {
    "colab": {},
    "colab_type": "code",
    "id": "gsSiWEJY1BPB"
   },
   "outputs": [
    {
     "name": "stdout",
     "output_type": "stream",
     "text": [
      "{'Chanel Bleu': 0, 'Chanel Chance': 1}\n"
     ]
    }
   ],
   "source": [
    "import numpy as np\n",
    "from keras.preprocessing import image\n",
    "test_image = image.load_img('/Users/nateng921/Downloads/IMG_3511.JPG', target_size = (64, 64))\n",
    "test_image = image.img_to_array(test_image)\n",
    "test_image = np.expand_dims(test_image, axis = 0)\n",
    "result = cnn.predict(test_image)\n",
    "print(training_set.class_indices)\n",
    "if result[0][0] == 1:\n",
    "  prediction = 'Chance Eau Tendre Eau de Parfum'\n",
    "\n",
    "else:\n",
    "  prediction = 'BLEU DE CHANEL Eau de Toilette'"
   ]
  },
  {
   "cell_type": "code",
   "execution_count": 27,
   "metadata": {
    "colab": {},
    "colab_type": "code",
    "id": "ED9KB3I54c1i"
   },
   "outputs": [
    {
     "name": "stdout",
     "output_type": "stream",
     "text": [
      "Chance Eau Tendre Eau de Parfum\n"
     ]
    }
   ],
   "source": [
    "print(prediction)"
   ]
  },
  {
   "cell_type": "markdown",
   "metadata": {},
   "source": [
    "# Part 5 - Load our Data Frame"
   ]
  },
  {
   "cell_type": "code",
   "execution_count": 48,
   "metadata": {},
   "outputs": [],
   "source": [
    "sephora = pd.read_csv(\"/Users/nateng921/Downloads/CS\\Sephora_gigi.csv\")"
   ]
  },
  {
   "cell_type": "code",
   "execution_count": 49,
   "metadata": {},
   "outputs": [
    {
     "data": {
      "text/html": [
       "<div>\n",
       "<style scoped>\n",
       "    .dataframe tbody tr th:only-of-type {\n",
       "        vertical-align: middle;\n",
       "    }\n",
       "\n",
       "    .dataframe tbody tr th {\n",
       "        vertical-align: top;\n",
       "    }\n",
       "\n",
       "    .dataframe thead th {\n",
       "        text-align: right;\n",
       "    }\n",
       "</style>\n",
       "<table border=\"1\" class=\"dataframe\">\n",
       "  <thead>\n",
       "    <tr style=\"text-align: right;\">\n",
       "      <th></th>\n",
       "      <th>Unnamed: 0</th>\n",
       "      <th>Brand</th>\n",
       "      <th>Product name</th>\n",
       "      <th>Price</th>\n",
       "      <th>Review count</th>\n",
       "      <th>Rating</th>\n",
       "      <th>Image</th>\n",
       "      <th>Product link</th>\n",
       "      <th>Type</th>\n",
       "    </tr>\n",
       "  </thead>\n",
       "  <tbody>\n",
       "    <tr>\n",
       "      <th>0</th>\n",
       "      <td>0</td>\n",
       "      <td>CHANEL</td>\n",
       "      <td>COCO MADEMOISELLE Eau de Parfum</td>\n",
       "      <td>$108.00</td>\n",
       "      <td>787</td>\n",
       "      <td>4.5 stars</td>\n",
       "      <td>www.sephora.com/productimages/sku/s513168-main...</td>\n",
       "      <td>www.sephora.com/product/coco-mademoiselle-P124...</td>\n",
       "      <td>Floral</td>\n",
       "    </tr>\n",
       "    <tr>\n",
       "      <th>1</th>\n",
       "      <td>1</td>\n",
       "      <td>Dior</td>\n",
       "      <td>Sauvage Eau de Toilette</td>\n",
       "      <td>$82.00</td>\n",
       "      <td>828</td>\n",
       "      <td>4.5 stars</td>\n",
       "      <td>www.sephora.com/productimages/sku/s1739317-mai...</td>\n",
       "      <td>www.sephora.com/product/sauvage-P400057?icid2=...</td>\n",
       "      <td>Earthy &amp; Woody</td>\n",
       "    </tr>\n",
       "    <tr>\n",
       "      <th>2</th>\n",
       "      <td>2</td>\n",
       "      <td>CHANEL</td>\n",
       "      <td>BLEU DE CHANEL Eau de Toilette</td>\n",
       "      <td>$80.00</td>\n",
       "      <td>105</td>\n",
       "      <td>5 stars</td>\n",
       "      <td>www.sephora.com/productimages/sku/s1284710-mai...</td>\n",
       "      <td>www.sephora.com/product/bleu-de-chanel-P270302...</td>\n",
       "      <td>Earthy &amp; Woody</td>\n",
       "    </tr>\n",
       "    <tr>\n",
       "      <th>3</th>\n",
       "      <td>3</td>\n",
       "      <td>Yves Saint Laurent</td>\n",
       "      <td>Black Opium Eau de Parfum</td>\n",
       "      <td>$130.00</td>\n",
       "      <td>6.8K</td>\n",
       "      <td>4.5 stars</td>\n",
       "      <td>www.sephora.com/productimages/sku/s1688852-mai...</td>\n",
       "      <td>www.sephora.com/product/black-opium-P394534?ic...</td>\n",
       "      <td>Warm &amp; Spicy</td>\n",
       "    </tr>\n",
       "    <tr>\n",
       "      <th>4</th>\n",
       "      <td>4</td>\n",
       "      <td>Valentino</td>\n",
       "      <td>Donna Born In Roma Eau de Parfum</td>\n",
       "      <td>$105.00</td>\n",
       "      <td>892</td>\n",
       "      <td>4.5 stars</td>\n",
       "      <td>www.sephora.com/productimages/sku/s2249688-mai...</td>\n",
       "      <td>www.sephora.com/product/born-in-roma-P449116?i...</td>\n",
       "      <td>Floral</td>\n",
       "    </tr>\n",
       "    <tr>\n",
       "      <th>5</th>\n",
       "      <td>5</td>\n",
       "      <td>Dior</td>\n",
       "      <td>Sauvage Eau de Parfum</td>\n",
       "      <td>$100.00</td>\n",
       "      <td>648</td>\n",
       "      <td>4.5 stars</td>\n",
       "      <td>www.sephora.com/productimages/sku/s2038123-mai...</td>\n",
       "      <td>www.sephora.com/product/sauvage-eau-de-parfum-...</td>\n",
       "      <td>Earthy &amp; Woody</td>\n",
       "    </tr>\n",
       "    <tr>\n",
       "      <th>6</th>\n",
       "      <td>6</td>\n",
       "      <td>CHANEL</td>\n",
       "      <td>BLEU DE CHANEL Eau de Parfum</td>\n",
       "      <td>$98.00</td>\n",
       "      <td>178</td>\n",
       "      <td>5 stars</td>\n",
       "      <td>www.sephora.com/productimages/sku/s1695972-mai...</td>\n",
       "      <td>www.sephora.com/product/bleu-de-chanel-eau-de-...</td>\n",
       "      <td>Earthy &amp; Woody</td>\n",
       "    </tr>\n",
       "    <tr>\n",
       "      <th>7</th>\n",
       "      <td>7</td>\n",
       "      <td>Maison Margiela</td>\n",
       "      <td>’REPLICA’ By the Fireplace</td>\n",
       "      <td>$135.00</td>\n",
       "      <td>1.4K</td>\n",
       "      <td>4.5 stars</td>\n",
       "      <td>www.sephora.com/productimages/sku/s1788058-mai...</td>\n",
       "      <td>www.sephora.com/product/replica-by-fireplace-P...</td>\n",
       "      <td>Warm &amp; Spicy</td>\n",
       "    </tr>\n",
       "    <tr>\n",
       "      <th>8</th>\n",
       "      <td>8</td>\n",
       "      <td>Viktor&amp;Rolf</td>\n",
       "      <td>Flowerbomb</td>\n",
       "      <td>$165.00</td>\n",
       "      <td>4.9K</td>\n",
       "      <td>4.5 stars</td>\n",
       "      <td>www.sephora.com/productimages/sku/s1377159-mai...</td>\n",
       "      <td>www.sephora.com/product/flowerbomb-P255506?ici...</td>\n",
       "      <td>Warm &amp; Spicy</td>\n",
       "    </tr>\n",
       "    <tr>\n",
       "      <th>9</th>\n",
       "      <td>9</td>\n",
       "      <td>Gucci</td>\n",
       "      <td>Flora Gorgeous Gardenia Eau de Parfum</td>\n",
       "      <td>$138.00</td>\n",
       "      <td>597</td>\n",
       "      <td>4.5 stars</td>\n",
       "      <td>www.sephora.com/productimages/sku/s2470714-mai...</td>\n",
       "      <td>www.sephora.com/product/gucci-flora-by-gucci-g...</td>\n",
       "      <td>Floral</td>\n",
       "    </tr>\n",
       "    <tr>\n",
       "      <th>10</th>\n",
       "      <td>10</td>\n",
       "      <td>Sol de Janeiro</td>\n",
       "      <td>Brazilian Crush Cheirosa ’62 Bum Bum Hair &amp; Bo...</td>\n",
       "      <td>$35.00</td>\n",
       "      <td>1.2K</td>\n",
       "      <td>4 stars</td>\n",
       "      <td>www.sephora.com/productimages/sku/s1930759-mai...</td>\n",
       "      <td>www.sephora.com/product/brazilian-crush-body-f...</td>\n",
       "      <td>Warm &amp; Spicy</td>\n",
       "    </tr>\n",
       "    <tr>\n",
       "      <th>11</th>\n",
       "      <td>11</td>\n",
       "      <td>CHANEL</td>\n",
       "      <td>Chance Eau Tendre Eau de Parfum</td>\n",
       "      <td>$138.00</td>\n",
       "      <td>185</td>\n",
       "      <td>4.5 stars</td>\n",
       "      <td>www.sephora.com/productimages/sku/s2170686-mai...</td>\n",
       "      <td>www.sephora.com/product/chance-eau-tendre-eau-...</td>\n",
       "      <td>Floral</td>\n",
       "    </tr>\n",
       "    <tr>\n",
       "      <th>12</th>\n",
       "      <td>12</td>\n",
       "      <td>Yves Saint Laurent</td>\n",
       "      <td>Libre Eau De Parfum</td>\n",
       "      <td>$106.00</td>\n",
       "      <td>3.3K</td>\n",
       "      <td>4.5 stars</td>\n",
       "      <td>www.sephora.com/productimages/sku/s2249738-mai...</td>\n",
       "      <td>www.sephora.com/product/libre-eau-de-parfum-P4...</td>\n",
       "      <td>Floral</td>\n",
       "    </tr>\n",
       "    <tr>\n",
       "      <th>13</th>\n",
       "      <td>13</td>\n",
       "      <td>Dior</td>\n",
       "      <td>J'adore Eau de Parfum</td>\n",
       "      <td>$138.00</td>\n",
       "      <td>1.3K</td>\n",
       "      <td>4.5 stars</td>\n",
       "      <td>www.sephora.com/productimages/sku/s420588-main...</td>\n",
       "      <td>www.sephora.com/product/j-adore-eau-de-parfum-...</td>\n",
       "      <td>Floral</td>\n",
       "    </tr>\n",
       "    <tr>\n",
       "      <th>14</th>\n",
       "      <td>14</td>\n",
       "      <td>Maison Margiela</td>\n",
       "      <td>’REPLICA’ Jazz Club</td>\n",
       "      <td>$135.00</td>\n",
       "      <td>816</td>\n",
       "      <td>4.5 stars</td>\n",
       "      <td>www.sephora.com/productimages/sku/s1602259-mai...</td>\n",
       "      <td>www.sephora.com/product/replica-jazz-club-P385...</td>\n",
       "      <td>Warm &amp; Spicy</td>\n",
       "    </tr>\n",
       "    <tr>\n",
       "      <th>15</th>\n",
       "      <td>15</td>\n",
       "      <td>Marc Jacobs Fragrances</td>\n",
       "      <td>Perfect Eau de Parfum</td>\n",
       "      <td>$133.00</td>\n",
       "      <td>936</td>\n",
       "      <td>4.5 stars</td>\n",
       "      <td>www.sephora.com/productimages/sku/s2362812-mai...</td>\n",
       "      <td>www.sephora.com/product/marc-jacobs-fragrances...</td>\n",
       "      <td>Floral</td>\n",
       "    </tr>\n",
       "    <tr>\n",
       "      <th>16</th>\n",
       "      <td>16</td>\n",
       "      <td>Dior</td>\n",
       "      <td>Miss Dior Blooming Bouquet</td>\n",
       "      <td>$85.00</td>\n",
       "      <td>1.5K</td>\n",
       "      <td>4.5 stars</td>\n",
       "      <td>www.sephora.com/productimages/sku/s1599877-mai...</td>\n",
       "      <td>www.sephora.com/product/miss-dior-blooming-bou...</td>\n",
       "      <td>Floral</td>\n",
       "    </tr>\n",
       "    <tr>\n",
       "      <th>17</th>\n",
       "      <td>17</td>\n",
       "      <td>Juliette Has a Gun</td>\n",
       "      <td>Not A Perfume</td>\n",
       "      <td>$135.00</td>\n",
       "      <td>1.6K</td>\n",
       "      <td>4 stars</td>\n",
       "      <td>www.sephora.com/productimages/sku/s1703321-mai...</td>\n",
       "      <td>www.sephora.com/product/not-perfume-P395313?ic...</td>\n",
       "      <td>Earthy &amp; Woody</td>\n",
       "    </tr>\n",
       "    <tr>\n",
       "      <th>18</th>\n",
       "      <td>18</td>\n",
       "      <td>Carolina Herrera</td>\n",
       "      <td>Good Girl Eau de Parfum</td>\n",
       "      <td>$98.00</td>\n",
       "      <td>477</td>\n",
       "      <td>4.5 stars</td>\n",
       "      <td>www.sephora.com/productimages/sku/s1960707-mai...</td>\n",
       "      <td>www.sephora.com/product/good-girl-P420533?icid...</td>\n",
       "      <td>Floral</td>\n",
       "    </tr>\n",
       "    <tr>\n",
       "      <th>19</th>\n",
       "      <td>19</td>\n",
       "      <td>KILIAN Paris</td>\n",
       "      <td>Love, Don't Be Shy</td>\n",
       "      <td>$240.00</td>\n",
       "      <td>826</td>\n",
       "      <td>4 stars</td>\n",
       "      <td>www.sephora.com/productimages/sku/s2320133-mai...</td>\n",
       "      <td>www.sephora.com/product/love-don-t-be-shy-P429...</td>\n",
       "      <td>Floral</td>\n",
       "    </tr>\n",
       "  </tbody>\n",
       "</table>\n",
       "</div>"
      ],
      "text/plain": [
       "    Unnamed: 0                   Brand  \\\n",
       "0            0                  CHANEL   \n",
       "1            1                    Dior   \n",
       "2            2                  CHANEL   \n",
       "3            3      Yves Saint Laurent   \n",
       "4            4               Valentino   \n",
       "5            5                    Dior   \n",
       "6            6                  CHANEL   \n",
       "7            7         Maison Margiela   \n",
       "8            8             Viktor&Rolf   \n",
       "9            9                   Gucci   \n",
       "10          10          Sol de Janeiro   \n",
       "11          11                  CHANEL   \n",
       "12          12      Yves Saint Laurent   \n",
       "13          13                    Dior   \n",
       "14          14         Maison Margiela   \n",
       "15          15  Marc Jacobs Fragrances   \n",
       "16          16                    Dior   \n",
       "17          17      Juliette Has a Gun   \n",
       "18          18        Carolina Herrera   \n",
       "19          19            KILIAN Paris   \n",
       "\n",
       "                                         Product name    Price Review count  \\\n",
       "0                     COCO MADEMOISELLE Eau de Parfum  $108.00          787   \n",
       "1                             Sauvage Eau de Toilette   $82.00          828   \n",
       "2                      BLEU DE CHANEL Eau de Toilette   $80.00          105   \n",
       "3                           Black Opium Eau de Parfum  $130.00         6.8K   \n",
       "4                    Donna Born In Roma Eau de Parfum  $105.00          892   \n",
       "5                               Sauvage Eau de Parfum  $100.00          648   \n",
       "6                        BLEU DE CHANEL Eau de Parfum   $98.00          178   \n",
       "7                          ’REPLICA’ By the Fireplace  $135.00         1.4K   \n",
       "8                                          Flowerbomb  $165.00         4.9K   \n",
       "9               Flora Gorgeous Gardenia Eau de Parfum  $138.00          597   \n",
       "10  Brazilian Crush Cheirosa ’62 Bum Bum Hair & Bo...   $35.00         1.2K   \n",
       "11                    Chance Eau Tendre Eau de Parfum  $138.00          185   \n",
       "12                                Libre Eau De Parfum  $106.00         3.3K   \n",
       "13                              J'adore Eau de Parfum  $138.00         1.3K   \n",
       "14                                ’REPLICA’ Jazz Club  $135.00          816   \n",
       "15                              Perfect Eau de Parfum  $133.00          936   \n",
       "16                         Miss Dior Blooming Bouquet   $85.00         1.5K   \n",
       "17                                      Not A Perfume  $135.00         1.6K   \n",
       "18                            Good Girl Eau de Parfum   $98.00          477   \n",
       "19                                 Love, Don't Be Shy  $240.00          826   \n",
       "\n",
       "       Rating                                              Image  \\\n",
       "0   4.5 stars  www.sephora.com/productimages/sku/s513168-main...   \n",
       "1   4.5 stars  www.sephora.com/productimages/sku/s1739317-mai...   \n",
       "2     5 stars  www.sephora.com/productimages/sku/s1284710-mai...   \n",
       "3   4.5 stars  www.sephora.com/productimages/sku/s1688852-mai...   \n",
       "4   4.5 stars  www.sephora.com/productimages/sku/s2249688-mai...   \n",
       "5   4.5 stars  www.sephora.com/productimages/sku/s2038123-mai...   \n",
       "6     5 stars  www.sephora.com/productimages/sku/s1695972-mai...   \n",
       "7   4.5 stars  www.sephora.com/productimages/sku/s1788058-mai...   \n",
       "8   4.5 stars  www.sephora.com/productimages/sku/s1377159-mai...   \n",
       "9   4.5 stars  www.sephora.com/productimages/sku/s2470714-mai...   \n",
       "10    4 stars  www.sephora.com/productimages/sku/s1930759-mai...   \n",
       "11  4.5 stars  www.sephora.com/productimages/sku/s2170686-mai...   \n",
       "12  4.5 stars  www.sephora.com/productimages/sku/s2249738-mai...   \n",
       "13  4.5 stars  www.sephora.com/productimages/sku/s420588-main...   \n",
       "14  4.5 stars  www.sephora.com/productimages/sku/s1602259-mai...   \n",
       "15  4.5 stars  www.sephora.com/productimages/sku/s2362812-mai...   \n",
       "16  4.5 stars  www.sephora.com/productimages/sku/s1599877-mai...   \n",
       "17    4 stars  www.sephora.com/productimages/sku/s1703321-mai...   \n",
       "18  4.5 stars  www.sephora.com/productimages/sku/s1960707-mai...   \n",
       "19    4 stars  www.sephora.com/productimages/sku/s2320133-mai...   \n",
       "\n",
       "                                         Product link            Type  \n",
       "0   www.sephora.com/product/coco-mademoiselle-P124...          Floral  \n",
       "1   www.sephora.com/product/sauvage-P400057?icid2=...  Earthy & Woody  \n",
       "2   www.sephora.com/product/bleu-de-chanel-P270302...  Earthy & Woody  \n",
       "3   www.sephora.com/product/black-opium-P394534?ic...    Warm & Spicy  \n",
       "4   www.sephora.com/product/born-in-roma-P449116?i...          Floral  \n",
       "5   www.sephora.com/product/sauvage-eau-de-parfum-...  Earthy & Woody  \n",
       "6   www.sephora.com/product/bleu-de-chanel-eau-de-...  Earthy & Woody  \n",
       "7   www.sephora.com/product/replica-by-fireplace-P...    Warm & Spicy  \n",
       "8   www.sephora.com/product/flowerbomb-P255506?ici...    Warm & Spicy  \n",
       "9   www.sephora.com/product/gucci-flora-by-gucci-g...          Floral  \n",
       "10  www.sephora.com/product/brazilian-crush-body-f...    Warm & Spicy  \n",
       "11  www.sephora.com/product/chance-eau-tendre-eau-...          Floral  \n",
       "12  www.sephora.com/product/libre-eau-de-parfum-P4...          Floral  \n",
       "13  www.sephora.com/product/j-adore-eau-de-parfum-...          Floral  \n",
       "14  www.sephora.com/product/replica-jazz-club-P385...    Warm & Spicy  \n",
       "15  www.sephora.com/product/marc-jacobs-fragrances...          Floral  \n",
       "16  www.sephora.com/product/miss-dior-blooming-bou...          Floral  \n",
       "17  www.sephora.com/product/not-perfume-P395313?ic...  Earthy & Woody  \n",
       "18  www.sephora.com/product/good-girl-P420533?icid...          Floral  \n",
       "19  www.sephora.com/product/love-don-t-be-shy-P429...          Floral  "
      ]
     },
     "execution_count": 49,
     "metadata": {},
     "output_type": "execute_result"
    }
   ],
   "source": [
    "sephora"
   ]
  },
  {
   "cell_type": "markdown",
   "metadata": {},
   "source": [
    "## Get the column of Type"
   ]
  },
  {
   "cell_type": "code",
   "execution_count": 79,
   "metadata": {},
   "outputs": [],
   "source": [
    "perfume_type = sephora[sephora['Product name'].str.match(prediction)]"
   ]
  },
  {
   "cell_type": "code",
   "execution_count": 95,
   "metadata": {},
   "outputs": [
    {
     "data": {
      "text/plain": [
       "'Earthy & Woody'"
      ]
     },
     "execution_count": 95,
     "metadata": {},
     "output_type": "execute_result"
    }
   ],
   "source": [
    "perfume_type.iloc[0][-1]"
   ]
  },
  {
   "cell_type": "code",
   "execution_count": 78,
   "metadata": {
    "scrolled": true
   },
   "outputs": [
    {
     "data": {
      "text/plain": [
       "2    Earthy & Woody\n",
       "Name: Type, dtype: object"
      ]
     },
     "execution_count": 78,
     "metadata": {},
     "output_type": "execute_result"
    }
   ],
   "source": [
    "perfume_type['Type']"
   ]
  },
  {
   "cell_type": "markdown",
   "metadata": {},
   "source": [
    "## Same type of our object perfume from data frame"
   ]
  },
  {
   "cell_type": "code",
   "execution_count": 126,
   "metadata": {},
   "outputs": [
    {
     "data": {
      "text/html": [
       "<div>\n",
       "<style scoped>\n",
       "    .dataframe tbody tr th:only-of-type {\n",
       "        vertical-align: middle;\n",
       "    }\n",
       "\n",
       "    .dataframe tbody tr th {\n",
       "        vertical-align: top;\n",
       "    }\n",
       "\n",
       "    .dataframe thead th {\n",
       "        text-align: right;\n",
       "    }\n",
       "</style>\n",
       "<table border=\"1\" class=\"dataframe\">\n",
       "  <thead>\n",
       "    <tr style=\"text-align: right;\">\n",
       "      <th></th>\n",
       "      <th>Unnamed: 0</th>\n",
       "      <th>Brand</th>\n",
       "      <th>Product name</th>\n",
       "      <th>Price</th>\n",
       "      <th>Review count</th>\n",
       "      <th>Rating</th>\n",
       "      <th>Image</th>\n",
       "      <th>Product link</th>\n",
       "      <th>Type</th>\n",
       "    </tr>\n",
       "  </thead>\n",
       "  <tbody>\n",
       "    <tr>\n",
       "      <th>1</th>\n",
       "      <td>1</td>\n",
       "      <td>Dior</td>\n",
       "      <td>Sauvage Eau de Toilette</td>\n",
       "      <td>$82.00</td>\n",
       "      <td>828</td>\n",
       "      <td>4.5 stars</td>\n",
       "      <td>www.sephora.com/productimages/sku/s1739317-mai...</td>\n",
       "      <td>www.sephora.com/product/sauvage-P400057?icid2=...</td>\n",
       "      <td>Earthy &amp; Woody</td>\n",
       "    </tr>\n",
       "    <tr>\n",
       "      <th>2</th>\n",
       "      <td>2</td>\n",
       "      <td>CHANEL</td>\n",
       "      <td>BLEU DE CHANEL Eau de Toilette</td>\n",
       "      <td>$80.00</td>\n",
       "      <td>105</td>\n",
       "      <td>5 stars</td>\n",
       "      <td>www.sephora.com/productimages/sku/s1284710-mai...</td>\n",
       "      <td>www.sephora.com/product/bleu-de-chanel-P270302...</td>\n",
       "      <td>Earthy &amp; Woody</td>\n",
       "    </tr>\n",
       "    <tr>\n",
       "      <th>5</th>\n",
       "      <td>5</td>\n",
       "      <td>Dior</td>\n",
       "      <td>Sauvage Eau de Parfum</td>\n",
       "      <td>$100.00</td>\n",
       "      <td>648</td>\n",
       "      <td>4.5 stars</td>\n",
       "      <td>www.sephora.com/productimages/sku/s2038123-mai...</td>\n",
       "      <td>www.sephora.com/product/sauvage-eau-de-parfum-...</td>\n",
       "      <td>Earthy &amp; Woody</td>\n",
       "    </tr>\n",
       "    <tr>\n",
       "      <th>6</th>\n",
       "      <td>6</td>\n",
       "      <td>CHANEL</td>\n",
       "      <td>BLEU DE CHANEL Eau de Parfum</td>\n",
       "      <td>$98.00</td>\n",
       "      <td>178</td>\n",
       "      <td>5 stars</td>\n",
       "      <td>www.sephora.com/productimages/sku/s1695972-mai...</td>\n",
       "      <td>www.sephora.com/product/bleu-de-chanel-eau-de-...</td>\n",
       "      <td>Earthy &amp; Woody</td>\n",
       "    </tr>\n",
       "    <tr>\n",
       "      <th>17</th>\n",
       "      <td>17</td>\n",
       "      <td>Juliette Has a Gun</td>\n",
       "      <td>Not A Perfume</td>\n",
       "      <td>$135.00</td>\n",
       "      <td>1.6K</td>\n",
       "      <td>4 stars</td>\n",
       "      <td>www.sephora.com/productimages/sku/s1703321-mai...</td>\n",
       "      <td>www.sephora.com/product/not-perfume-P395313?ic...</td>\n",
       "      <td>Earthy &amp; Woody</td>\n",
       "    </tr>\n",
       "  </tbody>\n",
       "</table>\n",
       "</div>"
      ],
      "text/plain": [
       "    Unnamed: 0               Brand                    Product name    Price  \\\n",
       "1            1                Dior         Sauvage Eau de Toilette   $82.00   \n",
       "2            2              CHANEL  BLEU DE CHANEL Eau de Toilette   $80.00   \n",
       "5            5                Dior           Sauvage Eau de Parfum  $100.00   \n",
       "6            6              CHANEL    BLEU DE CHANEL Eau de Parfum   $98.00   \n",
       "17          17  Juliette Has a Gun                   Not A Perfume  $135.00   \n",
       "\n",
       "   Review count     Rating                                              Image  \\\n",
       "1           828  4.5 stars  www.sephora.com/productimages/sku/s1739317-mai...   \n",
       "2           105    5 stars  www.sephora.com/productimages/sku/s1284710-mai...   \n",
       "5           648  4.5 stars  www.sephora.com/productimages/sku/s2038123-mai...   \n",
       "6           178    5 stars  www.sephora.com/productimages/sku/s1695972-mai...   \n",
       "17         1.6K    4 stars  www.sephora.com/productimages/sku/s1703321-mai...   \n",
       "\n",
       "                                         Product link            Type  \n",
       "1   www.sephora.com/product/sauvage-P400057?icid2=...  Earthy & Woody  \n",
       "2   www.sephora.com/product/bleu-de-chanel-P270302...  Earthy & Woody  \n",
       "5   www.sephora.com/product/sauvage-eau-de-parfum-...  Earthy & Woody  \n",
       "6   www.sephora.com/product/bleu-de-chanel-eau-de-...  Earthy & Woody  \n",
       "17  www.sephora.com/product/not-perfume-P395313?ic...  Earthy & Woody  "
      ]
     },
     "execution_count": 126,
     "metadata": {},
     "output_type": "execute_result"
    }
   ],
   "source": [
    "sephora[sephora['Type'].str.match(perfume_type.iloc[0][-1])]"
   ]
  },
  {
   "cell_type": "code",
   "execution_count": 127,
   "metadata": {},
   "outputs": [],
   "source": [
    "sametype = sephora[sephora['Type'].str.match(perfume_type.iloc[0][-1])]"
   ]
  },
  {
   "cell_type": "code",
   "execution_count": 128,
   "metadata": {},
   "outputs": [
    {
     "data": {
      "text/html": [
       "<div>\n",
       "<style scoped>\n",
       "    .dataframe tbody tr th:only-of-type {\n",
       "        vertical-align: middle;\n",
       "    }\n",
       "\n",
       "    .dataframe tbody tr th {\n",
       "        vertical-align: top;\n",
       "    }\n",
       "\n",
       "    .dataframe thead th {\n",
       "        text-align: right;\n",
       "    }\n",
       "</style>\n",
       "<table border=\"1\" class=\"dataframe\">\n",
       "  <thead>\n",
       "    <tr style=\"text-align: right;\">\n",
       "      <th></th>\n",
       "      <th>Unnamed: 0</th>\n",
       "      <th>Brand</th>\n",
       "      <th>Product name</th>\n",
       "      <th>Price</th>\n",
       "      <th>Review count</th>\n",
       "      <th>Rating</th>\n",
       "      <th>Image</th>\n",
       "      <th>Product link</th>\n",
       "      <th>Type</th>\n",
       "    </tr>\n",
       "  </thead>\n",
       "  <tbody>\n",
       "    <tr>\n",
       "      <th>1</th>\n",
       "      <td>1</td>\n",
       "      <td>Dior</td>\n",
       "      <td>Sauvage Eau de Toilette</td>\n",
       "      <td>$82.00</td>\n",
       "      <td>828</td>\n",
       "      <td>4.5 stars</td>\n",
       "      <td>www.sephora.com/productimages/sku/s1739317-mai...</td>\n",
       "      <td>www.sephora.com/product/sauvage-P400057?icid2=...</td>\n",
       "      <td>Earthy &amp; Woody</td>\n",
       "    </tr>\n",
       "    <tr>\n",
       "      <th>2</th>\n",
       "      <td>2</td>\n",
       "      <td>CHANEL</td>\n",
       "      <td>BLEU DE CHANEL Eau de Toilette</td>\n",
       "      <td>$80.00</td>\n",
       "      <td>105</td>\n",
       "      <td>5 stars</td>\n",
       "      <td>www.sephora.com/productimages/sku/s1284710-mai...</td>\n",
       "      <td>www.sephora.com/product/bleu-de-chanel-P270302...</td>\n",
       "      <td>Earthy &amp; Woody</td>\n",
       "    </tr>\n",
       "    <tr>\n",
       "      <th>5</th>\n",
       "      <td>5</td>\n",
       "      <td>Dior</td>\n",
       "      <td>Sauvage Eau de Parfum</td>\n",
       "      <td>$100.00</td>\n",
       "      <td>648</td>\n",
       "      <td>4.5 stars</td>\n",
       "      <td>www.sephora.com/productimages/sku/s2038123-mai...</td>\n",
       "      <td>www.sephora.com/product/sauvage-eau-de-parfum-...</td>\n",
       "      <td>Earthy &amp; Woody</td>\n",
       "    </tr>\n",
       "    <tr>\n",
       "      <th>6</th>\n",
       "      <td>6</td>\n",
       "      <td>CHANEL</td>\n",
       "      <td>BLEU DE CHANEL Eau de Parfum</td>\n",
       "      <td>$98.00</td>\n",
       "      <td>178</td>\n",
       "      <td>5 stars</td>\n",
       "      <td>www.sephora.com/productimages/sku/s1695972-mai...</td>\n",
       "      <td>www.sephora.com/product/bleu-de-chanel-eau-de-...</td>\n",
       "      <td>Earthy &amp; Woody</td>\n",
       "    </tr>\n",
       "    <tr>\n",
       "      <th>17</th>\n",
       "      <td>17</td>\n",
       "      <td>Juliette Has a Gun</td>\n",
       "      <td>Not A Perfume</td>\n",
       "      <td>$135.00</td>\n",
       "      <td>1.6K</td>\n",
       "      <td>4 stars</td>\n",
       "      <td>www.sephora.com/productimages/sku/s1703321-mai...</td>\n",
       "      <td>www.sephora.com/product/not-perfume-P395313?ic...</td>\n",
       "      <td>Earthy &amp; Woody</td>\n",
       "    </tr>\n",
       "  </tbody>\n",
       "</table>\n",
       "</div>"
      ],
      "text/plain": [
       "    Unnamed: 0               Brand                    Product name    Price  \\\n",
       "1            1                Dior         Sauvage Eau de Toilette   $82.00   \n",
       "2            2              CHANEL  BLEU DE CHANEL Eau de Toilette   $80.00   \n",
       "5            5                Dior           Sauvage Eau de Parfum  $100.00   \n",
       "6            6              CHANEL    BLEU DE CHANEL Eau de Parfum   $98.00   \n",
       "17          17  Juliette Has a Gun                   Not A Perfume  $135.00   \n",
       "\n",
       "   Review count     Rating                                              Image  \\\n",
       "1           828  4.5 stars  www.sephora.com/productimages/sku/s1739317-mai...   \n",
       "2           105    5 stars  www.sephora.com/productimages/sku/s1284710-mai...   \n",
       "5           648  4.5 stars  www.sephora.com/productimages/sku/s2038123-mai...   \n",
       "6           178    5 stars  www.sephora.com/productimages/sku/s1695972-mai...   \n",
       "17         1.6K    4 stars  www.sephora.com/productimages/sku/s1703321-mai...   \n",
       "\n",
       "                                         Product link            Type  \n",
       "1   www.sephora.com/product/sauvage-P400057?icid2=...  Earthy & Woody  \n",
       "2   www.sephora.com/product/bleu-de-chanel-P270302...  Earthy & Woody  \n",
       "5   www.sephora.com/product/sauvage-eau-de-parfum-...  Earthy & Woody  \n",
       "6   www.sephora.com/product/bleu-de-chanel-eau-de-...  Earthy & Woody  \n",
       "17  www.sephora.com/product/not-perfume-P395313?ic...  Earthy & Woody  "
      ]
     },
     "execution_count": 128,
     "metadata": {},
     "output_type": "execute_result"
    }
   ],
   "source": [
    "sametype"
   ]
  },
  {
   "cell_type": "markdown",
   "metadata": {},
   "source": [
    "## Extract information of Top 5 best selling same type perfumes"
   ]
  },
  {
   "cell_type": "code",
   "execution_count": 145,
   "metadata": {},
   "outputs": [],
   "source": [
    "def show_row(x):\n",
    "    \n",
    "    brand = hey.iloc[x][1]\n",
    "    name = hey.iloc[x][2]\n",
    "    price = hey.iloc[x][3]\n",
    "    review = hey.iloc[x][4]\n",
    "    rating = hey.iloc[x][5]\n",
    "    image = hey.iloc[x][6]\n",
    "    link = hey.iloc[x][7]\n",
    "    Type = hey.iloc[x][8]\n",
    "    \n",
    "    print(f\" brand: {brand}\")\n",
    "    print(f\" product name: {name}\")\n",
    "    print(f\" price: {price}\")\n",
    "    print(f\" review count: {review}\")\n",
    "    print(f\" image: {image}\")\n",
    "    print(f\" link: {link}\")\n",
    "    print(f\" type: {Type}\")\n",
    "    print(\"\")\n",
    "    "
   ]
  },
  {
   "cell_type": "code",
   "execution_count": 147,
   "metadata": {},
   "outputs": [
    {
     "name": "stdout",
     "output_type": "stream",
     "text": [
      " brand: Dior\n",
      " product name: Sauvage Eau de Toilette\n",
      " price: $82.00\n",
      " review count: 828\n",
      " image: www.sephora.com/productimages/sku/s1739317-main-zoom.jpg?imwidth=135&imwidth=135\n",
      " link: www.sephora.com/product/sauvage-P400057?icid2=bestsellersfragrance_skugrid_ufe:p400057:product\n",
      " type: Earthy & Woody\n",
      "\n",
      " brand: CHANEL\n",
      " product name: BLEU DE CHANEL Eau de Toilette\n",
      " price: $80.00\n",
      " review count: 105\n",
      " image: www.sephora.com/productimages/sku/s1284710-main-zoom.jpg?imwidth=135&imwidth=135\n",
      " link: www.sephora.com/product/bleu-de-chanel-P270302?icid2=bestsellersfragrance_skugrid_ufe:p270302:product\n",
      " type: Earthy & Woody\n",
      "\n",
      " brand: Dior\n",
      " product name: Sauvage Eau de Parfum\n",
      " price: $100.00\n",
      " review count: 648\n",
      " image: www.sephora.com/productimages/sku/s2038123-main-zoom.jpg?imwidth=135&imwidth=135\n",
      " link: www.sephora.com/product/sauvage-eau-de-parfum-P428500?icid2=bestsellersfragrance_skugrid_ufe:p428500:product\n",
      " type: Earthy & Woody\n",
      "\n",
      " brand: CHANEL\n",
      " product name: BLEU DE CHANEL Eau de Parfum\n",
      " price: $98.00\n",
      " review count: 178\n",
      " image: www.sephora.com/productimages/sku/s1695972-main-zoom.jpg?imwidth=135&imwidth=135\n",
      " link: www.sephora.com/product/bleu-de-chanel-eau-de-parfum-P394949?icid2=bestsellersfragrance_skugrid_ufe:p394949:product\n",
      " type: Earthy & Woody\n",
      "\n",
      " brand: Juliette Has a Gun\n",
      " product name: Not A Perfume\n",
      " price: $135.00\n",
      " review count: 1.6K\n",
      " image: www.sephora.com/productimages/sku/s1703321-main-zoom.jpg?imwidth=135&imwidth=135\n",
      " link: www.sephora.com/product/not-perfume-P395313?icid2=bestsellersfragrance_skugrid_ufe:p395313:product\n",
      " type: Earthy & Woody\n",
      "\n"
     ]
    }
   ],
   "source": [
    "for x in range(5):\n",
    "    if perfume_type.iloc[0][-1] == \"Earthy & Woody\":\n",
    "        show_row(x)\n",
    "    elif perfume_type.iloc[0][-1] == \"Floral\":\n",
    "        show_row(x)"
   ]
  },
  {
   "cell_type": "code",
   "execution_count": null,
   "metadata": {},
   "outputs": [],
   "source": []
  }
 ],
 "metadata": {
  "colab": {
   "collapsed_sections": [],
   "name": "convolutional_neural_network.ipynb",
   "provenance": [],
   "toc_visible": true
  },
  "kernelspec": {
   "display_name": "Python 3",
   "language": "python",
   "name": "python3"
  },
  "language_info": {
   "codemirror_mode": {
    "name": "ipython",
    "version": 3
   },
   "file_extension": ".py",
   "mimetype": "text/x-python",
   "name": "python",
   "nbconvert_exporter": "python",
   "pygments_lexer": "ipython3",
   "version": "3.8.8"
  }
 },
 "nbformat": 4,
 "nbformat_minor": 1
}
